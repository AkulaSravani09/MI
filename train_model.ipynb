{
 "cells": [
  {
   "cell_type": "code",
   "execution_count": 1,
   "id": "38cc83dc-bb47-4a68-84ae-7c10a8360dfd",
   "metadata": {},
   "outputs": [
    {
     "name": "stdout",
     "output_type": "stream",
     "text": [
      "Model Accuracy: 0.87\n",
      "Model and imputer saved successfully!\n"
     ]
    }
   ],
   "source": [
    "import pandas as pd\n",
    "import numpy as np\n",
    "import joblib\n",
    "from sklearn.model_selection import train_test_split\n",
    "from sklearn.impute import SimpleImputer\n",
    "from sklearn.ensemble import RandomForestClassifier\n",
    "from sklearn.metrics import accuracy_score\n",
    "\n",
    "# Load dataset\n",
    "df = pd.read_csv(\"Myocardial Infarction.csv\")\n",
    "\n",
    "# Select top 15 relevant features (update based on your data)\n",
    "selected_columns = [\n",
    "    'AGE', 'SEX', 'SIM_GIPERT', 'STENOK_AN', 'FK_STENOK', 'IBS_POST',\n",
    "    'IBS_NASL', 'K_BLOOD', 'L_BLOOD', 'ROE', 'S_AD_KBRIG', 'D_AD_KBRIG',\n",
    "    'GIPO_K', 'GIPER_NA', 'LET_IS'  # Target variable\n",
    "]\n",
    "\n",
    "# Filter the dataset\n",
    "df = df[selected_columns].dropna(subset=['LET_IS'])  # Drop rows where target is missing\n",
    "\n",
    "# Define features (X) and target (y)\n",
    "X = df.drop(columns=['LET_IS'])  # Input features\n",
    "y = df['LET_IS']  # Target variable (0 = Low Risk, 1 = High Risk)\n",
    "\n",
    "# Handle missing values\n",
    "imputer = SimpleImputer(strategy='mean')  # Fill missing values with column mean\n",
    "X_imputed = imputer.fit_transform(X)\n",
    "\n",
    "# Split dataset into training and testing sets\n",
    "X_train, X_test, y_train, y_test = train_test_split(X_imputed, y, test_size=0.2, random_state=42)\n",
    "\n",
    "# Train a model\n",
    "model = RandomForestClassifier(n_estimators=100, random_state=42)\n",
    "model.fit(X_train, y_train)\n",
    "\n",
    "# Evaluate model\n",
    "y_pred = model.predict(X_test)\n",
    "accuracy = accuracy_score(y_test, y_pred)\n",
    "print(f\"Model Accuracy: {accuracy:.2f}\")\n",
    "\n",
    "# Save trained model and imputer\n",
    "joblib.dump(model, \"myocardial_model.pkl\")\n",
    "joblib.dump(imputer, \"imputer.pkl\")\n",
    "\n",
    "print(\"Model and imputer saved successfully!\")\n"
   ]
  },
  {
   "cell_type": "code",
   "execution_count": 3,
   "id": "2d599887-b4ee-42be-9c98-bf6c898aa023",
   "metadata": {},
   "outputs": [
    {
     "name": "stdout",
     "output_type": "stream",
     "text": [
      "Model Accuracy: 1.00\n",
      "Model and imputer saved successfully!\n"
     ]
    }
   ],
   "source": [
    "import pandas as pd\n",
    "import numpy as np\n",
    "import joblib\n",
    "from sklearn.model_selection import train_test_split\n",
    "from sklearn.impute import SimpleImputer\n",
    "from sklearn.ensemble import RandomForestClassifier\n",
    "from sklearn.metrics import accuracy_score\n",
    "\n",
    "# Load dataset\n",
    "file_path = \"Myocardial Infarction.csv\"\n",
    "df = pd.read_csv(file_path)\n",
    "\n",
    "# Select relevant 14 features\n",
    "selected_columns = [\n",
    "    'AGE', 'SEX', 'SIM_GIPERT', 'STENOK_AN', 'FK_STENOK', \n",
    "    'IBS_POST', 'IBS_NASL', 'K_BLOOD', 'L_BLOOD', 'ROE', \n",
    "    'S_AD_KBRIG', 'D_AD_KBRIG', 'GIPO_K', 'GIPER_NA'\n",
    "]\n",
    "\n",
    "# Set the correct target column\n",
    "target_column = \"LET_IS\"  # Updated based on dataset\n",
    "\n",
    "# Ensure target column exists\n",
    "if target_column not in df.columns:\n",
    "    raise ValueError(f\"Target column '{target_column}' not found in dataset!\")\n",
    "\n",
    "# Filter dataset\n",
    "filtered_df = df[selected_columns + [target_column]].dropna()\n",
    "\n",
    "# Split into input (X) and output (y)\n",
    "X = filtered_df[selected_columns]\n",
    "y = filtered_df[target_column]\n",
    "\n",
    "# Handle missing values\n",
    "imputer = SimpleImputer(strategy=\"mean\")\n",
    "X_imputed = imputer.fit_transform(X)\n",
    "\n",
    "# Split into train and test sets\n",
    "X_train, X_test, y_train, y_test = train_test_split(X_imputed, y, test_size=0.2, random_state=42)\n",
    "\n",
    "# Train model\n",
    "model = RandomForestClassifier(n_estimators=100, random_state=42)\n",
    "model.fit(X_train, y_train)\n",
    "\n",
    "# Evaluate model\n",
    "y_pred = model.predict(X_test)\n",
    "accuracy = accuracy_score(y_test, y_pred)\n",
    "print(f\"Model Accuracy: {accuracy:.2f}\")\n",
    "\n",
    "# Save trained model and imputer\n",
    "joblib.dump(model, \"myocardial_model.pkl\")\n",
    "joblib.dump(imputer, \"imputer.pkl\")\n",
    "print(\"Model and imputer saved successfully!\")\n"
   ]
  }
 ],
 "metadata": {
  "kernelspec": {
   "display_name": "Python 3 (ipykernel)",
   "language": "python",
   "name": "python3"
  },
  "language_info": {
   "codemirror_mode": {
    "name": "ipython",
    "version": 3
   },
   "file_extension": ".py",
   "mimetype": "text/x-python",
   "name": "python",
   "nbconvert_exporter": "python",
   "pygments_lexer": "ipython3",
   "version": "3.12.4"
  }
 },
 "nbformat": 4,
 "nbformat_minor": 5
}
